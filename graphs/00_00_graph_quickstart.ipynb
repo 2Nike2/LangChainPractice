{
 "cells": [
  {
   "cell_type": "markdown",
   "metadata": {},
   "source": [
    "下記のリンクをクリックするとGoogle Colabで実行することが出来ます  \n",
    "[![Open In Colab](https://colab.research.google.com/assets/colab-badge.svg)](http://colab.research.google.com/github/2Nike2/LangChainPractice/blob/main/filename.ipynb)"
   ]
  },
  {
   "cell_type": "markdown",
   "metadata": {},
   "source": [
    "### (事前準備: OpenAI APIキーの設定)\n",
    "OpenAI APIを使う為のAPIキーを設定します  \n",
    "このAPIキーについては、OpenAIのサイトで取得することが出来ます  \n",
    "https://platform.openai.com/api-keys  \n",
    "APIキーについては公開しないように注意してください  "
   ]
  },
  {
   "cell_type": "code",
   "execution_count": null,
   "metadata": {},
   "outputs": [],
   "source": [
    "import os\n",
    "\n",
    "# ここにあなたのOpenAIのAPIキーを入力してください\n",
    "openai_api_key = 'yourapikey'\n",
    "\n",
    "# 環境変数にAPIキーがまだ設定されていないならばAPIキーを設定\n",
    "if os.getenv('OPENAI_API_KEY') is None:\n",
    "    os.environ['OPENAI_API_KEY'] = openai_api_key\n"
   ]
  },
  {
   "cell_type": "markdown",
   "metadata": {},
   "source": [
    "### Neo4jインストール\n",
    "グラフ型データベースNeo4jを下記に従ってインストールする  \n",
    "1. https://neo4j.com/docs/operations-manual/current/installation/   \n",
    "   でOSを選択  \n",
    "2. OSを選択して飛んだページにある作業を行う  \n",
    "   a. Open JDK or Oracle Java 17のインストール(詳細は割愛)  \n",
    "   b. https://neo4j.com/deployment-center/  \n",
    "      「Graph Database Self-Managed」のところに移り、タブを「COMMUNITY」、OSを適宜変更  \n",
    "      (Windowsならば「Windows Executable」、Macならば「Linux / Mac Executable」)、バージョンはデフォルト(最新版)で「Download」をクリック  \n",
    "      その後、適切な場所(後々にファイル、フォルダの移動をすることがないような場所が良い)におく  \n"
   ]
  },
  {
   "cell_type": "markdown",
   "metadata": {},
   "source": [
    "### Neo4j各種設定\n",
    "下記の設定を行う\n",
    "1. neo4j-community-x.x.x/labs/apoc-x.x.x-core.jar  \n",
    "   を  \n",
    "   neo4j-community-x.x.x/plugins/apoc-x.x.x-core.jar  \n",
    "   に移動\n",
    "2. (必要ならば)上記jarを実行できるように権限を変更する\n",
    "   (Macだとchmodを使用、Windowsだとファイルのプロパティから「セキュリティ」を「許可する」か?)\n",
    "3. neo4j-community-x.x.x/conf/neo4j.conf に下記の2行を追加または置き換え(同名の項目がすでにあるならばそこに近いところに記載すると良い)  \n",
    "```\n",
    "dbms.security.procedures.unrestricted=apoc.*  \n",
    "dbms.security.procedures.allowlist=apoc.*,gds.*  \n",
    "```\n",
    "4. neo4j-community-x.x.x/bin/neo4j start  \n",
    "   でneo4jを起動し、  \n",
    "   Username:neo4j  \n",
    "   Password:neo4j  \n",
    "   でログイン  \n",
    "   パスワード変更を要求されるので、変更後のパスワードを入力、変更後のパスワードは後に使うのでメモする  \n",
    "\n",
    "5. 下記の環境変数を設定する\n",
    "```\n",
    "NEO4J_URI=bolt://localhost:7687\n",
    "NEO4J_USERNAME=neo4j\n",
    "NEO4J_PASSWORD=上記でメモした変更後のパスワード\n",
    "```\n",
    "(Windowsならば「環境変数の設定」、Macならば「.bash_profile」に記載して再起動、\n",
    "またはdotenvを利用するならば「.env」ファイルを作成し、\n",
    "```\n",
    "!pip install python-dotenv\n",
    "from dotenv import load_dotenv\n",
    "load_dotenv()\n",
    "```\n",
    "で読み込んでも良い)\n"
   ]
  },
  {
   "cell_type": "markdown",
   "metadata": {},
   "source": [
    "## 知識グラフの活用\n",
    "知識グラフを用いたQAチェインを作成します。"
   ]
  },
  {
   "cell_type": "markdown",
   "metadata": {},
   "source": [
    "### ライブラリのインストール\n",
    "LangChainのライブラリをインストールします"
   ]
  },
  {
   "cell_type": "code",
   "execution_count": null,
   "metadata": {},
   "outputs": [],
   "source": [
    "!pip install langchain==0.1.4\n",
    "!pip install langchain-openai==0.0.5\n",
    "!pip install neo4j==5.18.0"
   ]
  },
  {
   "cell_type": "markdown",
   "metadata": {},
   "source": [
    "### モデルの初期化\n",
    "OpenAI APIを使う為のモデルを初期化します"
   ]
  },
  {
   "cell_type": "code",
   "execution_count": null,
   "metadata": {},
   "outputs": [],
   "source": [
    "from langchain_openai import ChatOpenAI\n",
    "\n",
    "llm = ChatOpenAI()\n"
   ]
  },
  {
   "cell_type": "markdown",
   "metadata": {},
   "source": [
    "### グラフデータベースへの接続\n",
    "neo4j-community-x.x.x/bin/neo4j start  \n",
    "neo4j-community-x.x.x/bin/neo4j console\n",
    "で起動されていることを確認  \n",
    "(上記のパスワード変更から続けて行なっているならば基本的に必要がないが、もし止めていたら再び起動する)\n"
   ]
  },
  {
   "cell_type": "code",
   "execution_count": null,
   "metadata": {},
   "outputs": [],
   "source": [
    "from langchain_community.graphs import Neo4jGraph\n",
    "\n",
    "graph = Neo4jGraph()\n"
   ]
  },
  {
   "cell_type": "markdown",
   "metadata": {},
   "source": [
    "### グラフの作成"
   ]
  },
  {
   "cell_type": "code",
   "execution_count": null,
   "metadata": {},
   "outputs": [],
   "source": [
    "movies_query = \"\"\"\n",
    "LOAD CSV WITH HEADERS FROM \n",
    "'https://raw.githubusercontent.com/tomasonjo/blog-datasets/main/movies/movies_small.csv'\n",
    "AS row\n",
    "MERGE (m:Movie {id:row.movieId})\n",
    "SET m.released = date(row.released),\n",
    "    m.title = row.title,\n",
    "    m.imdbRating = toFloat(row.imdbRating)\n",
    "FOREACH (director in split(row.director, '|') | \n",
    "    MERGE (p:Person {name:trim(director)})\n",
    "    MERGE (p)-[:DIRECTED]->(m))\n",
    "FOREACH (actor in split(row.actors, '|') | \n",
    "    MERGE (p:Person {name:trim(actor)})\n",
    "    MERGE (p)-[:ACTED_IN]->(m))\n",
    "FOREACH (genre in split(row.genres, '|') | \n",
    "    MERGE (g:Genre {name:trim(genre)})\n",
    "    MERGE (m)-[:IN_GENRE]->(g))\n",
    "\"\"\"\n",
    "\n",
    "graph.query(movies_query)\n"
   ]
  },
  {
   "cell_type": "markdown",
   "metadata": {},
   "source": [
    "### グラフのスキーマの表示"
   ]
  },
  {
   "cell_type": "code",
   "execution_count": null,
   "metadata": {},
   "outputs": [],
   "source": [
    "graph.refresh_schema()\n",
    "print(graph.schema)\n"
   ]
  },
  {
   "cell_type": "markdown",
   "metadata": {},
   "source": [
    "### グラフへの問い合わせ"
   ]
  },
  {
   "cell_type": "code",
   "execution_count": null,
   "metadata": {},
   "outputs": [],
   "source": [
    "from langchain.chains import GraphCypherQAChain\n",
    "\n",
    "chain = GraphCypherQAChain.from_llm(graph=graph, llm=llm, verbose=True)\n",
    "response = chain.invoke({'query': 'What was the cast of Casino?'})\n",
    "response\n"
   ]
  },
  {
   "cell_type": "code",
   "execution_count": null,
   "metadata": {},
   "outputs": [],
   "source": [
    "response = chain.invoke({'query': 'Tell me about jenres of Toy Story.'})\n",
    "response\n"
   ]
  },
  {
   "cell_type": "code",
   "execution_count": null,
   "metadata": {},
   "outputs": [],
   "source": [
    "response = chain.invoke({'query': 'What\\'s the rate of Taxi Driver.'})\n",
    "response\n"
   ]
  },
  {
   "cell_type": "code",
   "execution_count": null,
   "metadata": {},
   "outputs": [],
   "source": [
    "chain_２ = GraphCypherQAChain.from_llm(\n",
    "    graph=graph, llm=llm, verbose=True, validate_cypher=True\n",
    ")\n",
    "response = chain_2.invoke({\"query\": \"What was the cast of the Othello?\"})\n",
    "response\n"
   ]
  }
 ],
 "metadata": {
  "kernelspec": {
   "display_name": "ml_pip",
   "language": "python",
   "name": "python3"
  },
  "language_info": {
   "codemirror_mode": {
    "name": "ipython",
    "version": 3
   },
   "file_extension": ".py",
   "mimetype": "text/x-python",
   "name": "python",
   "nbconvert_exporter": "python",
   "pygments_lexer": "ipython3",
   "version": "3.11.8"
  }
 },
 "nbformat": 4,
 "nbformat_minor": 2
}
