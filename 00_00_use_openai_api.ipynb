{
 "cells": [
  {
   "cell_type": "markdown",
   "metadata": {},
   "source": [
    "下記のリンクをクリックするとGoogle Colabで実行することが出来ます  \n",
    "[![Open In Colab](https://colab.research.google.com/assets/colab-badge.svg)](http://colab.research.google.com/github/2Nike2/LangChainPractice/blob/main/00_00_use_openai_api.ipynb)"
   ]
  },
  {
   "cell_type": "markdown",
   "metadata": {},
   "source": [
    "## OpenAI APIの呼び出し方\n",
    "ここではOpenAI APIを呼び出して、こちらが送った文章に対して、AIが文章を返すようにする方法を説明します。"
   ]
  },
  {
   "cell_type": "markdown",
   "metadata": {},
   "source": [
    "### ライブラリのインストール\n",
    "LangChainでOpenAI APIを使う為のライブラリをインストールします"
   ]
  },
  {
   "cell_type": "code",
   "execution_count": 1,
   "metadata": {},
   "outputs": [
    {
     "name": "stdout",
     "output_type": "stream",
     "text": [
      "Requirement already satisfied: langchain-openai==0.0.5 in c:\\users\\na0t0\\pythonprojects\\environment\\ml_pip\\lib\\site-packages (0.0.5)\n",
      "Requirement already satisfied: langchain-core<0.2,>=0.1.16 in c:\\users\\na0t0\\pythonprojects\\environment\\ml_pip\\lib\\site-packages (from langchain-openai==0.0.5) (0.1.16)\n",
      "Requirement already satisfied: numpy<2,>=1 in c:\\users\\na0t0\\pythonprojects\\environment\\ml_pip\\lib\\site-packages (from langchain-openai==0.0.5) (1.26.2)\n",
      "Requirement already satisfied: openai<2.0.0,>=1.10.0 in c:\\users\\na0t0\\pythonprojects\\environment\\ml_pip\\lib\\site-packages (from langchain-openai==0.0.5) (1.10.0)\n",
      "Requirement already satisfied: tiktoken<0.6.0,>=0.5.2 in c:\\users\\na0t0\\pythonprojects\\environment\\ml_pip\\lib\\site-packages (from langchain-openai==0.0.5) (0.5.2)\n",
      "Requirement already satisfied: PyYAML>=5.3 in c:\\users\\na0t0\\pythonprojects\\environment\\ml_pip\\lib\\site-packages (from langchain-core<0.2,>=0.1.16->langchain-openai==0.0.5) (6.0.1)\n",
      "Requirement already satisfied: anyio<5,>=3 in c:\\users\\na0t0\\pythonprojects\\environment\\ml_pip\\lib\\site-packages (from langchain-core<0.2,>=0.1.16->langchain-openai==0.0.5) (3.6.1)\n",
      "Requirement already satisfied: jsonpatch<2.0,>=1.33 in c:\\users\\na0t0\\pythonprojects\\environment\\ml_pip\\lib\\site-packages (from langchain-core<0.2,>=0.1.16->langchain-openai==0.0.5) (1.33)\n",
      "Requirement already satisfied: langsmith<0.1,>=0.0.83 in c:\\users\\na0t0\\pythonprojects\\environment\\ml_pip\\lib\\site-packages (from langchain-core<0.2,>=0.1.16->langchain-openai==0.0.5) (0.0.83)\n",
      "Requirement already satisfied: packaging<24.0,>=23.2 in c:\\users\\na0t0\\pythonprojects\\environment\\ml_pip\\lib\\site-packages (from langchain-core<0.2,>=0.1.16->langchain-openai==0.0.5) (23.2)\n",
      "Requirement already satisfied: pydantic<3,>=1 in c:\\users\\na0t0\\pythonprojects\\environment\\ml_pip\\lib\\site-packages (from langchain-core<0.2,>=0.1.16->langchain-openai==0.0.5) (2.5.3)\n",
      "Requirement already satisfied: requests<3,>=2 in c:\\users\\na0t0\\pythonprojects\\environment\\ml_pip\\lib\\site-packages (from langchain-core<0.2,>=0.1.16->langchain-openai==0.0.5) (2.31.0)\n",
      "Requirement already satisfied: tenacity<9.0.0,>=8.1.0 in c:\\users\\na0t0\\pythonprojects\\environment\\ml_pip\\lib\\site-packages (from langchain-core<0.2,>=0.1.16->langchain-openai==0.0.5) (8.2.2)\n",
      "Requirement already satisfied: distro<2,>=1.7.0 in c:\\users\\na0t0\\pythonprojects\\environment\\ml_pip\\lib\\site-packages (from openai<2.0.0,>=1.10.0->langchain-openai==0.0.5) (1.9.0)\n",
      "Requirement already satisfied: httpx<1,>=0.23.0 in c:\\users\\na0t0\\pythonprojects\\environment\\ml_pip\\lib\\site-packages (from openai<2.0.0,>=1.10.0->langchain-openai==0.0.5) (0.23.0)\n",
      "Requirement already satisfied: sniffio in c:\\users\\na0t0\\pythonprojects\\environment\\ml_pip\\lib\\site-packages (from openai<2.0.0,>=1.10.0->langchain-openai==0.0.5) (1.3.0)\n",
      "Requirement already satisfied: tqdm>4 in c:\\users\\na0t0\\pythonprojects\\environment\\ml_pip\\lib\\site-packages (from openai<2.0.0,>=1.10.0->langchain-openai==0.0.5) (4.64.1)\n",
      "Requirement already satisfied: typing-extensions<5,>=4.7 in c:\\users\\na0t0\\pythonprojects\\environment\\ml_pip\\lib\\site-packages (from openai<2.0.0,>=1.10.0->langchain-openai==0.0.5) (4.9.0)\n",
      "Requirement already satisfied: regex>=2022.1.18 in c:\\users\\na0t0\\pythonprojects\\environment\\ml_pip\\lib\\site-packages (from tiktoken<0.6.0,>=0.5.2->langchain-openai==0.0.5) (2023.12.25)\n",
      "Requirement already satisfied: idna>=2.8 in c:\\users\\na0t0\\pythonprojects\\environment\\ml_pip\\lib\\site-packages (from anyio<5,>=3->langchain-core<0.2,>=0.1.16->langchain-openai==0.0.5) (3.4)\n",
      "Requirement already satisfied: certifi in c:\\users\\na0t0\\pythonprojects\\environment\\ml_pip\\lib\\site-packages (from httpx<1,>=0.23.0->openai<2.0.0,>=1.10.0->langchain-openai==0.0.5) (2023.5.7)\n",
      "Requirement already satisfied: rfc3986<2,>=1.3 in c:\\users\\na0t0\\pythonprojects\\environment\\ml_pip\\lib\\site-packages (from rfc3986[idna2008]<2,>=1.3->httpx<1,>=0.23.0->openai<2.0.0,>=1.10.0->langchain-openai==0.0.5) (1.5.0)\n",
      "Requirement already satisfied: httpcore<0.16.0,>=0.15.0 in c:\\users\\na0t0\\pythonprojects\\environment\\ml_pip\\lib\\site-packages (from httpx<1,>=0.23.0->openai<2.0.0,>=1.10.0->langchain-openai==0.0.5) (0.15.0)\n",
      "Requirement already satisfied: jsonpointer>=1.9 in c:\\users\\na0t0\\pythonprojects\\environment\\ml_pip\\lib\\site-packages (from jsonpatch<2.0,>=1.33->langchain-core<0.2,>=0.1.16->langchain-openai==0.0.5) (2.3)\n",
      "Requirement already satisfied: annotated-types>=0.4.0 in c:\\users\\na0t0\\pythonprojects\\environment\\ml_pip\\lib\\site-packages (from pydantic<3,>=1->langchain-core<0.2,>=0.1.16->langchain-openai==0.0.5) (0.6.0)\n",
      "Requirement already satisfied: pydantic-core==2.14.6 in c:\\users\\na0t0\\pythonprojects\\environment\\ml_pip\\lib\\site-packages (from pydantic<3,>=1->langchain-core<0.2,>=0.1.16->langchain-openai==0.0.5) (2.14.6)\n",
      "Requirement already satisfied: charset-normalizer<4,>=2 in c:\\users\\na0t0\\pythonprojects\\environment\\ml_pip\\lib\\site-packages (from requests<3,>=2->langchain-core<0.2,>=0.1.16->langchain-openai==0.0.5) (2.1.1)\n",
      "Requirement already satisfied: urllib3<3,>=1.21.1 in c:\\users\\na0t0\\pythonprojects\\environment\\ml_pip\\lib\\site-packages (from requests<3,>=2->langchain-core<0.2,>=0.1.16->langchain-openai==0.0.5) (1.26.16)\n",
      "Requirement already satisfied: colorama in c:\\users\\na0t0\\pythonprojects\\environment\\ml_pip\\lib\\site-packages (from tqdm>4->openai<2.0.0,>=1.10.0->langchain-openai==0.0.5) (0.4.5)\n",
      "Requirement already satisfied: h11<0.13,>=0.11 in c:\\users\\na0t0\\pythonprojects\\environment\\ml_pip\\lib\\site-packages (from httpcore<0.16.0,>=0.15.0->httpx<1,>=0.23.0->openai<2.0.0,>=1.10.0->langchain-openai==0.0.5) (0.12.0)\n"
     ]
    },
    {
     "name": "stderr",
     "output_type": "stream",
     "text": [
      "WARNING: Ignoring invalid distribution -ensorflow-intel (c:\\users\\na0t0\\pythonprojects\\environment\\ml_pip\\lib\\site-packages)\n",
      "WARNING: Ignoring invalid distribution -rotobuf (c:\\users\\na0t0\\pythonprojects\\environment\\ml_pip\\lib\\site-packages)\n",
      "WARNING: Ignoring invalid distribution -ensorflow-intel (c:\\users\\na0t0\\pythonprojects\\environment\\ml_pip\\lib\\site-packages)\n",
      "WARNING: Ignoring invalid distribution -rotobuf (c:\\users\\na0t0\\pythonprojects\\environment\\ml_pip\\lib\\site-packages)\n",
      "DEPRECATION: omegaconf 2.0.6 has a non-standard dependency specifier PyYAML>=5.1.*. pip 24.0 will enforce this behaviour change. A possible replacement is to upgrade to a newer version of omegaconf or contact the author to suggest that they release a version with a conforming dependency specifiers. Discussion can be found at https://github.com/pypa/pip/issues/12063\n"
     ]
    }
   ],
   "source": [
    "! pip install langchain-openai==0.0.5\n"
   ]
  },
  {
   "cell_type": "markdown",
   "metadata": {},
   "source": [
    "### ライブラリのインポート\n",
    "各種ライブラリをインポートします"
   ]
  },
  {
   "cell_type": "code",
   "execution_count": 2,
   "metadata": {},
   "outputs": [],
   "source": [
    "import os\n",
    "from langchain_openai import ChatOpenAI\n"
   ]
  },
  {
   "cell_type": "markdown",
   "metadata": {},
   "source": [
    "### OpenAI APIキーの設定\n",
    "OpenAI APIを使う為のAPIキーを設定します  \n",
    "このAPIキーについては、OpenAIのサイトで取得することが出来ます  \n",
    "https://platform.openai.com/api-keys  \n",
    "APIキーについては公開しないように注意してください  "
   ]
  },
  {
   "cell_type": "code",
   "execution_count": 3,
   "metadata": {},
   "outputs": [],
   "source": [
    "# ここにあなたのOpenAIのAPIキーを入力してください\n",
    "openai_api_key = 'your-api-key'\n",
    "\n",
    "# 環境変数にAPIキーがまだ設定されていないならばAPIキーを設定\n",
    "if os.getenv('OPENAI_API_KEY') is None:\n",
    "    os.environ['OPENAI_API_KEY'] = openai_api_key\n"
   ]
  },
  {
   "cell_type": "markdown",
   "metadata": {},
   "source": [
    "### モデルの初期化\n",
    "OpenAI APIを使う為のモデルを初期化します"
   ]
  },
  {
   "cell_type": "code",
   "execution_count": 4,
   "metadata": {},
   "outputs": [],
   "source": [
    "llm = ChatOpenAI()\n"
   ]
  },
  {
   "cell_type": "markdown",
   "metadata": {},
   "source": [
    "### モデルの使用\n",
    "ここでは、OpenAI APIを呼び出して文章が返ってくることを確認します"
   ]
  },
  {
   "cell_type": "code",
   "execution_count": 5,
   "metadata": {},
   "outputs": [
    {
     "data": {
      "text/plain": [
       "AIMessage(content='こんにちは! ご質問やお手伝いがありますか?')"
      ]
     },
     "execution_count": 5,
     "metadata": {},
     "output_type": "execute_result"
    }
   ],
   "source": [
    "llm.invoke('こんにちは!')\n"
   ]
  }
 ],
 "metadata": {
  "kernelspec": {
   "display_name": "ml_pip",
   "language": "python",
   "name": "python3"
  },
  "language_info": {
   "codemirror_mode": {
    "name": "ipython",
    "version": 3
   },
   "file_extension": ".py",
   "mimetype": "text/x-python",
   "name": "python",
   "nbconvert_exporter": "python",
   "pygments_lexer": "ipython3",
   "version": "3.9.0"
  }
 },
 "nbformat": 4,
 "nbformat_minor": 2
}
